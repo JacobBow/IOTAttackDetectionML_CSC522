{
 "cells": [
  {
   "cell_type": "code",
   "execution_count": 1,
   "metadata": {},
   "outputs": [
    {
     "name": "stderr",
     "output_type": "stream",
     "text": [
      "/var/folders/1s/tyt3m2l12dz6s028_blqch7r0000gn/T/ipykernel_86843/1971013312.py:3: DeprecationWarning: \n",
      "Pyarrow will become a required dependency of pandas in the next major release of pandas (pandas 3.0),\n",
      "(to allow more performant data types, such as the Arrow string type, and better interoperability with other libraries)\n",
      "but was not found to be installed on your system.\n",
      "If this would cause problems for you,\n",
      "please provide us feedback at https://github.com/pandas-dev/pandas/issues/54466\n",
      "        \n",
      "  import pandas as pd\n"
     ]
    }
   ],
   "source": [
    "import os\n",
    "import gc\n",
    "import pandas as pd\n",
    "from sklearn.preprocessing import StandardScaler, LabelEncoder\n",
    "from tensorflow.keras.models import Model\n",
    "from tensorflow.keras.layers import Input, Dense, BatchNormalization, Dropout\n",
    "from tensorflow.keras.optimizers import Adam\n",
    "from tensorflow.keras.callbacks import EarlyStopping\n",
    "import sys\n",
    "sys.path.append( '../util' )\n",
    "import util as util"
   ]
  },
  {
   "cell_type": "code",
   "execution_count": 2,
   "metadata": {},
   "outputs": [],
   "source": [
    "def create_multiclass_classification_model(input_shape, num_classes):\n",
    "    inputs = Input(shape=(input_shape,))\n",
    "    x = Dense(64, activation='relu')(inputs)\n",
    "    x = Dropout(0.5)(x)\n",
    "    x = Dense(64, activation='relu')(x) \n",
    "    outputs = Dense(num_classes, activation='softmax')(x)\n",
    "    model = Model(inputs=inputs, outputs=outputs)\n",
    "    model.compile(optimizer=Adam(learning_rate=0.001),\n",
    "                  loss='sparse_categorical_crossentropy',\n",
    "                  metrics=['accuracy'])\n",
    "    return model"
   ]
  },
  {
   "cell_type": "code",
   "execution_count": 3,
   "metadata": {},
   "outputs": [
    {
     "name": "stdout",
     "output_type": "stream",
     "text": [
      "Importing datasets.....\n",
      "Processing training and test data....\n",
      "Finished processing training and test data\n",
      "Mapping labels to seven classes.....\n",
      "Data import and processing complete....\n",
      " Number of classes is:\n",
      "8\n",
      "\n",
      "Epoch 1/100\n",
      "\u001b[1m113583/113583\u001b[0m \u001b[32m━━━━━━━━━━━━━━━━━━━━\u001b[0m\u001b[37m\u001b[0m \u001b[1m206s\u001b[0m 2ms/step - accuracy: 0.9232 - loss: 0.1789 - val_accuracy: 0.9833 - val_loss: 0.0457\n",
      "Epoch 2/100\n",
      "\u001b[1m113583/113583\u001b[0m \u001b[32m━━━━━━━━━━━━━━━━━━━━\u001b[0m\u001b[37m\u001b[0m \u001b[1m209s\u001b[0m 2ms/step - accuracy: 0.9593 - loss: 0.0949 - val_accuracy: 0.9896 - val_loss: 0.0290\n",
      "Epoch 3/100\n",
      "\u001b[1m113583/113583\u001b[0m \u001b[32m━━━━━━━━━━━━━━━━━━━━\u001b[0m\u001b[37m\u001b[0m \u001b[1m1154s\u001b[0m 10ms/step - accuracy: 0.9675 - loss: 0.0755 - val_accuracy: 0.9897 - val_loss: 0.0272\n",
      "Epoch 4/100\n",
      "\u001b[1m113583/113583\u001b[0m \u001b[32m━━━━━━━━━━━━━━━━━━━━\u001b[0m\u001b[37m\u001b[0m \u001b[1m181s\u001b[0m 2ms/step - accuracy: 0.9738 - loss: 0.0634 - val_accuracy: 0.9892 - val_loss: 0.0283\n",
      "Epoch 5/100\n",
      "\u001b[1m113583/113583\u001b[0m \u001b[32m━━━━━━━━━━━━━━━━━━━━\u001b[0m\u001b[37m\u001b[0m \u001b[1m135s\u001b[0m 1ms/step - accuracy: 0.9739 - loss: 0.0608 - val_accuracy: 0.9902 - val_loss: 0.0262\n",
      "Epoch 6/100\n",
      "\u001b[1m113583/113583\u001b[0m \u001b[32m━━━━━━━━━━━━━━━━━━━━\u001b[0m\u001b[37m\u001b[0m \u001b[1m183s\u001b[0m 2ms/step - accuracy: 0.9758 - loss: 0.0572 - val_accuracy: 0.9902 - val_loss: 0.0260\n",
      "Epoch 7/100\n",
      "\u001b[1m113583/113583\u001b[0m \u001b[32m━━━━━━━━━━━━━━━━━━━━\u001b[0m\u001b[37m\u001b[0m \u001b[1m182s\u001b[0m 2ms/step - accuracy: 0.9775 - loss: 0.0537 - val_accuracy: 0.9902 - val_loss: 0.0266\n",
      "Epoch 8/100\n",
      "\u001b[1m113583/113583\u001b[0m \u001b[32m━━━━━━━━━━━━━━━━━━━━\u001b[0m\u001b[37m\u001b[0m \u001b[1m185s\u001b[0m 2ms/step - accuracy: 0.9763 - loss: 0.0547 - val_accuracy: 0.9902 - val_loss: 0.0263\n",
      "Epoch 9/100\n",
      "\u001b[1m113583/113583\u001b[0m \u001b[32m━━━━━━━━━━━━━━━━━━━━\u001b[0m\u001b[37m\u001b[0m \u001b[1m172s\u001b[0m 2ms/step - accuracy: 0.9783 - loss: 0.0518 - val_accuracy: 0.9902 - val_loss: 0.0338\n",
      "Epoch 10/100\n",
      "\u001b[1m113583/113583\u001b[0m \u001b[32m━━━━━━━━━━━━━━━━━━━━\u001b[0m\u001b[37m\u001b[0m \u001b[1m139s\u001b[0m 1ms/step - accuracy: 0.9819 - loss: 0.0454 - val_accuracy: 0.9901 - val_loss: 0.0268\n",
      "Epoch 11/100\n",
      "\u001b[1m113583/113583\u001b[0m \u001b[32m━━━━━━━━━━━━━━━━━━━━\u001b[0m\u001b[37m\u001b[0m \u001b[1m141s\u001b[0m 1ms/step - accuracy: 0.9814 - loss: 0.0455 - val_accuracy: 0.9903 - val_loss: 0.0257\n",
      "Epoch 12/100\n",
      "\u001b[1m113583/113583\u001b[0m \u001b[32m━━━━━━━━━━━━━━━━━━━━\u001b[0m\u001b[37m\u001b[0m \u001b[1m1071s\u001b[0m 9ms/step - accuracy: 0.9806 - loss: 0.0470 - val_accuracy: 0.9902 - val_loss: 0.0259\n",
      "Epoch 13/100\n",
      "\u001b[1m113583/113583\u001b[0m \u001b[32m━━━━━━━━━━━━━━━━━━━━\u001b[0m\u001b[37m\u001b[0m \u001b[1m155s\u001b[0m 1ms/step - accuracy: 0.9820 - loss: 0.0449 - val_accuracy: 0.9904 - val_loss: 0.0261\n",
      "Epoch 14/100\n",
      "\u001b[1m113583/113583\u001b[0m \u001b[32m━━━━━━━━━━━━━━━━━━━━\u001b[0m\u001b[37m\u001b[0m \u001b[1m3593s\u001b[0m 32ms/step - accuracy: 0.9829 - loss: 0.0434 - val_accuracy: 0.9903 - val_loss: 0.0254\n",
      "Epoch 15/100\n",
      "\u001b[1m113583/113583\u001b[0m \u001b[32m━━━━━━━━━━━━━━━━━━━━\u001b[0m\u001b[37m\u001b[0m \u001b[1m3062s\u001b[0m 27ms/step - accuracy: 0.9835 - loss: 0.0427 - val_accuracy: 0.9904 - val_loss: 0.0254\n",
      "Epoch 16/100\n",
      "\u001b[1m113583/113583\u001b[0m \u001b[32m━━━━━━━━━━━━━━━━━━━━\u001b[0m\u001b[37m\u001b[0m \u001b[1m1869s\u001b[0m 16ms/step - accuracy: 0.9838 - loss: 0.0417 - val_accuracy: 0.9906 - val_loss: 0.0252\n",
      "Epoch 17/100\n",
      "\u001b[1m113583/113583\u001b[0m \u001b[32m━━━━━━━━━━━━━━━━━━━━\u001b[0m\u001b[37m\u001b[0m \u001b[1m3145s\u001b[0m 28ms/step - accuracy: 0.9806 - loss: 0.0470 - val_accuracy: 0.9903 - val_loss: 0.0257\n",
      "Epoch 18/100\n",
      "\u001b[1m113583/113583\u001b[0m \u001b[32m━━━━━━━━━━━━━━━━━━━━\u001b[0m\u001b[37m\u001b[0m \u001b[1m1972s\u001b[0m 17ms/step - accuracy: 0.9810 - loss: 0.0466 - val_accuracy: 0.9905 - val_loss: 0.0254\n",
      "Epoch 19/100\n",
      "\u001b[1m113583/113583\u001b[0m \u001b[32m━━━━━━━━━━━━━━━━━━━━\u001b[0m\u001b[37m\u001b[0m \u001b[1m1114s\u001b[0m 10ms/step - accuracy: 0.9836 - loss: 0.0411 - val_accuracy: 0.9903 - val_loss: 0.0256\n",
      "Epoch 20/100\n",
      "\u001b[1m113583/113583\u001b[0m \u001b[32m━━━━━━━━━━━━━━━━━━━━\u001b[0m\u001b[37m\u001b[0m \u001b[1m371s\u001b[0m 3ms/step - accuracy: 0.9830 - loss: 0.0427 - val_accuracy: 0.9905 - val_loss: 0.0253\n",
      "Epoch 21/100\n",
      "\u001b[1m113583/113583\u001b[0m \u001b[32m━━━━━━━━━━━━━━━━━━━━\u001b[0m\u001b[37m\u001b[0m \u001b[1m1170s\u001b[0m 10ms/step - accuracy: 0.9838 - loss: 0.0413 - val_accuracy: 0.9903 - val_loss: 0.0257\n",
      "Epoch 22/100\n",
      "\u001b[1m113583/113583\u001b[0m \u001b[32m━━━━━━━━━━━━━━━━━━━━\u001b[0m\u001b[37m\u001b[0m \u001b[1m1265s\u001b[0m 11ms/step - accuracy: 0.9827 - loss: 0.0443 - val_accuracy: 0.9905 - val_loss: 0.0260\n",
      "Epoch 23/100\n",
      "\u001b[1m113583/113583\u001b[0m \u001b[32m━━━━━━━━━━━━━━━━━━━━\u001b[0m\u001b[37m\u001b[0m \u001b[1m2188s\u001b[0m 19ms/step - accuracy: 0.9831 - loss: 0.0429 - val_accuracy: 0.9903 - val_loss: 0.0256\n",
      "Epoch 24/100\n",
      "\u001b[1m113583/113583\u001b[0m \u001b[32m━━━━━━━━━━━━━━━━━━━━\u001b[0m\u001b[37m\u001b[0m \u001b[1m2112s\u001b[0m 19ms/step - accuracy: 0.9836 - loss: 0.0412 - val_accuracy: 0.9904 - val_loss: 0.0255\n",
      "Epoch 25/100\n",
      "\u001b[1m113583/113583\u001b[0m \u001b[32m━━━━━━━━━━━━━━━━━━━━\u001b[0m\u001b[37m\u001b[0m \u001b[1m2202s\u001b[0m 19ms/step - accuracy: 0.9840 - loss: 0.0414 - val_accuracy: 0.9907 - val_loss: 0.0249\n",
      "Epoch 26/100\n",
      "\u001b[1m113583/113583\u001b[0m \u001b[32m━━━━━━━━━━━━━━━━━━━━\u001b[0m\u001b[37m\u001b[0m \u001b[1m689s\u001b[0m 6ms/step - accuracy: 0.9840 - loss: 0.0401 - val_accuracy: 0.9911 - val_loss: 0.0241\n",
      "Epoch 27/100\n",
      "\u001b[1m113583/113583\u001b[0m \u001b[32m━━━━━━━━━━━━━━━━━━━━\u001b[0m\u001b[37m\u001b[0m \u001b[1m1184s\u001b[0m 10ms/step - accuracy: 0.9827 - loss: 0.0417 - val_accuracy: 0.9911 - val_loss: 0.0243\n",
      "Epoch 28/100\n",
      "\u001b[1m113583/113583\u001b[0m \u001b[32m━━━━━━━━━━━━━━━━━━━━\u001b[0m\u001b[37m\u001b[0m \u001b[1m2185s\u001b[0m 19ms/step - accuracy: 0.9843 - loss: 0.0396 - val_accuracy: 0.9910 - val_loss: 0.0243\n",
      "Epoch 29/100\n",
      "\u001b[1m113583/113583\u001b[0m \u001b[32m━━━━━━━━━━━━━━━━━━━━\u001b[0m\u001b[37m\u001b[0m \u001b[1m202s\u001b[0m 2ms/step - accuracy: 0.9829 - loss: 0.0411 - val_accuracy: 0.9909 - val_loss: 0.0241\n",
      "Epoch 30/100\n",
      "\u001b[1m113583/113583\u001b[0m \u001b[32m━━━━━━━━━━━━━━━━━━━━\u001b[0m\u001b[37m\u001b[0m \u001b[1m1113s\u001b[0m 10ms/step - accuracy: 0.9841 - loss: 0.0397 - val_accuracy: 0.9911 - val_loss: 0.0244\n",
      "Epoch 31/100\n",
      "\u001b[1m113583/113583\u001b[0m \u001b[32m━━━━━━━━━━━━━━━━━━━━\u001b[0m\u001b[37m\u001b[0m \u001b[1m1126s\u001b[0m 10ms/step - accuracy: 0.9837 - loss: 0.0406 - val_accuracy: 0.9913 - val_loss: 0.0236\n",
      "Epoch 32/100\n",
      "\u001b[1m 94700/113583\u001b[0m \u001b[32m━━━━━━━━━━━━━━━━\u001b[0m\u001b[37m━━━━\u001b[0m \u001b[1m2:21\u001b[0m 7ms/step - accuracy: 0.9834 - loss: 0.0405"
     ]
    }
   ],
   "source": [
    "train, test = util.import_dataset(7,\"dnn\")\n",
    "y_train = train[util.y_column]\n",
    "y_test = test[util.y_column]\n",
    "\n",
    "X_train = train.drop(util.y_column, axis=1)\n",
    "X_test = test.drop(util.y_column, axis=1)\n",
    "\n",
    "label_encoder = LabelEncoder()\n",
    "y_train_encoded = label_encoder.fit_transform(y_train)\n",
    "y_test_encoded = label_encoder.transform(y_test)\n",
    "\n",
    "del train,test,y_train,y_test\n",
    "num_classes = len(label_encoder.classes_)\n",
    "print(\" Number of classes is:\" )\n",
    "print(num_classes)\n",
    "print(\"\")\n",
    "model = create_multiclass_classification_model(len(util.X_columns),num_classes)\n",
    "early_stopping = EarlyStopping(monitor='val_loss', patience=10, restore_best_weights=True)\n",
    "#https://keras.io/api/models/model_training_apis/\n",
    "history = model.fit(x=X_train, y=y_train_encoded,\n",
    "                    validation_split=0.2, epochs=100, \n",
    "                    batch_size=256, callbacks=[early_stopping])\n",
    "\n",
    "\n",
    "test_loss, test_acc = model.evaluate(X_test, y_test_encoded, verbose=2)\n",
    "print(f'Test accuracy: {test_acc}, Test loss: {test_loss}')\n",
    "del X_train,X_test,y_train_encoded,y_test_encoded"
   ]
  },
  {
   "cell_type": "code",
   "execution_count": null,
   "metadata": {},
   "outputs": [],
   "source": [
    "import matplotlib.pyplot as plt\n",
    "print(f'Test accuracy: {test_acc}, Test loss: {test_loss}')\n",
    "# Plot accuracy\n",
    "plt.plot(history.history['accuracy'], label='Training Accuracy')\n",
    "plt.plot(history.history['val_accuracy'], label='Validation Accuracy')\n",
    "plt.title('Model Accuracy for 7 classes')\n",
    "plt.ylabel('Accuracy')\n",
    "plt.xlabel('Epoch')\n",
    "plt.legend(loc='upper left')\n",
    "plt.show()"
   ]
  },
  {
   "cell_type": "code",
   "execution_count": null,
   "metadata": {},
   "outputs": [],
   "source": [
    "model.save('./my_saved_model')"
   ]
  }
 ],
 "metadata": {
  "kernelspec": {
   "display_name": "Python 3",
   "language": "python",
   "name": "python3"
  },
  "language_info": {
   "codemirror_mode": {
    "name": "ipython",
    "version": 3
   },
   "file_extension": ".py",
   "mimetype": "text/x-python",
   "name": "python",
   "nbconvert_exporter": "python",
   "pygments_lexer": "ipython3",
   "version": "3.11.6"
  }
 },
 "nbformat": 4,
 "nbformat_minor": 2
}
