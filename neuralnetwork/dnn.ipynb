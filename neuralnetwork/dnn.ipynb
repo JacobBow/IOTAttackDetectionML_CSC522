{
 "cells": [
  {
   "cell_type": "code",
   "execution_count": 2,
   "metadata": {},
   "outputs": [
    {
     "name": "stderr",
     "output_type": "stream",
     "text": [
      "/var/folders/1s/tyt3m2l12dz6s028_blqch7r0000gn/T/ipykernel_58065/1971013312.py:3: DeprecationWarning: \n",
      "Pyarrow will become a required dependency of pandas in the next major release of pandas (pandas 3.0),\n",
      "(to allow more performant data types, such as the Arrow string type, and better interoperability with other libraries)\n",
      "but was not found to be installed on your system.\n",
      "If this would cause problems for you,\n",
      "please provide us feedback at https://github.com/pandas-dev/pandas/issues/54466\n",
      "        \n",
      "  import pandas as pd\n"
     ]
    }
   ],
   "source": [
    "import os\n",
    "import gc\n",
    "import pandas as pd\n",
    "from sklearn.preprocessing import StandardScaler, LabelEncoder\n",
    "from tensorflow.keras.models import Model\n",
    "from tensorflow.keras.layers import Input, Dense, BatchNormalization, Dropout\n",
    "from tensorflow.keras.optimizers import Adam\n",
    "from tensorflow.keras.callbacks import EarlyStopping\n",
    "import sys\n",
    "sys.path.append( '../util' )\n",
    "import util as util"
   ]
  },
  {
   "cell_type": "markdown",
   "metadata": {},
   "source": [
    "# DNN with 2 classes"
   ]
  },
  {
   "cell_type": "code",
   "execution_count": 2,
   "metadata": {},
   "outputs": [
    {
     "name": "stdout",
     "output_type": "stream",
     "text": [
      "Importing datasets.....\n",
      "Processing training and test data....\n",
      "Finished processing training and test data\n",
      "Mapping labels to two classes.....\n",
      "Data import and processing complete....\n",
      "Epoch 1/100\n",
      "\u001b[1m113583/113583\u001b[0m \u001b[32m━━━━━━━━━━━━━━━━━━━━\u001b[0m\u001b[37m\u001b[0m \u001b[1m100s\u001b[0m 874us/step - accuracy: 0.9926 - loss: 0.0174 - val_accuracy: 0.9939 - val_loss: 0.0137\n",
      "Epoch 2/100\n",
      "\u001b[1m113583/113583\u001b[0m \u001b[32m━━━━━━━━━━━━━━━━━━━━\u001b[0m\u001b[37m\u001b[0m \u001b[1m99s\u001b[0m 869us/step - accuracy: 0.9942 - loss: 0.0136 - val_accuracy: 0.9943 - val_loss: 0.0131\n",
      "Epoch 3/100\n",
      "\u001b[1m113583/113583\u001b[0m \u001b[32m━━━━━━━━━━━━━━━━━━━━\u001b[0m\u001b[37m\u001b[0m \u001b[1m123s\u001b[0m 1ms/step - accuracy: 0.9943 - loss: 0.0132 - val_accuracy: 0.9944 - val_loss: 0.0132\n",
      "Epoch 4/100\n",
      "\u001b[1m113583/113583\u001b[0m \u001b[32m━━━━━━━━━━━━━━━━━━━━\u001b[0m\u001b[37m\u001b[0m \u001b[1m111s\u001b[0m 977us/step - accuracy: 0.9944 - loss: 0.0130 - val_accuracy: 0.9945 - val_loss: 0.0128\n",
      "Epoch 5/100\n",
      "\u001b[1m113583/113583\u001b[0m \u001b[32m━━━━━━━━━━━━━━━━━━━━\u001b[0m\u001b[37m\u001b[0m \u001b[1m296s\u001b[0m 3ms/step - accuracy: 0.9945 - loss: 0.0129 - val_accuracy: 0.9944 - val_loss: 0.0128\n",
      "Epoch 6/100\n",
      "\u001b[1m113583/113583\u001b[0m \u001b[32m━━━━━━━━━━━━━━━━━━━━\u001b[0m\u001b[37m\u001b[0m \u001b[1m94s\u001b[0m 820us/step - accuracy: 0.9945 - loss: 0.0127 - val_accuracy: 0.9944 - val_loss: 0.0127\n",
      "Epoch 7/100\n",
      "\u001b[1m113583/113583\u001b[0m \u001b[32m━━━━━━━━━━━━━━━━━━━━\u001b[0m\u001b[37m\u001b[0m \u001b[1m96s\u001b[0m 841us/step - accuracy: 0.9946 - loss: 0.0126 - val_accuracy: 0.9946 - val_loss: 0.0125\n",
      "Epoch 8/100\n",
      "\u001b[1m113583/113583\u001b[0m \u001b[32m━━━━━━━━━━━━━━━━━━━━\u001b[0m\u001b[37m\u001b[0m \u001b[1m95s\u001b[0m 830us/step - accuracy: 0.9946 - loss: 0.0125 - val_accuracy: 0.9946 - val_loss: 0.0125\n",
      "Epoch 9/100\n",
      "\u001b[1m113583/113583\u001b[0m \u001b[32m━━━━━━━━━━━━━━━━━━━━\u001b[0m\u001b[37m\u001b[0m \u001b[1m102s\u001b[0m 890us/step - accuracy: 0.9946 - loss: 0.0125 - val_accuracy: 0.9947 - val_loss: 0.0124\n",
      "Epoch 10/100\n",
      "\u001b[1m113583/113583\u001b[0m \u001b[32m━━━━━━━━━━━━━━━━━━━━\u001b[0m\u001b[37m\u001b[0m \u001b[1m101s\u001b[0m 880us/step - accuracy: 0.9946 - loss: 0.0125 - val_accuracy: 0.9947 - val_loss: 0.0123\n",
      "Epoch 11/100\n",
      "\u001b[1m113583/113583\u001b[0m \u001b[32m━━━━━━━━━━━━━━━━━━━━\u001b[0m\u001b[37m\u001b[0m \u001b[1m99s\u001b[0m 869us/step - accuracy: 0.9947 - loss: 0.0123 - val_accuracy: 0.9946 - val_loss: 0.0124\n",
      "Epoch 12/100\n",
      "\u001b[1m113583/113583\u001b[0m \u001b[32m━━━━━━━━━━━━━━━━━━━━\u001b[0m\u001b[37m\u001b[0m \u001b[1m561s\u001b[0m 5ms/step - accuracy: 0.9947 - loss: 0.0122 - val_accuracy: 0.9946 - val_loss: 0.0122\n",
      "Epoch 13/100\n",
      "\u001b[1m113583/113583\u001b[0m \u001b[32m━━━━━━━━━━━━━━━━━━━━\u001b[0m\u001b[37m\u001b[0m \u001b[1m102s\u001b[0m 893us/step - accuracy: 0.9947 - loss: 0.0122 - val_accuracy: 0.9948 - val_loss: 0.0122\n",
      "Epoch 14/100\n",
      "\u001b[1m113583/113583\u001b[0m \u001b[32m━━━━━━━━━━━━━━━━━━━━\u001b[0m\u001b[37m\u001b[0m \u001b[1m106s\u001b[0m 928us/step - accuracy: 0.9948 - loss: 0.0122 - val_accuracy: 0.9948 - val_loss: 0.0120\n",
      "Epoch 15/100\n",
      "\u001b[1m113583/113583\u001b[0m \u001b[32m━━━━━━━━━━━━━━━━━━━━\u001b[0m\u001b[37m\u001b[0m \u001b[1m101s\u001b[0m 885us/step - accuracy: 0.9948 - loss: 0.0121 - val_accuracy: 0.9949 - val_loss: 0.0120\n",
      "Epoch 16/100\n",
      "\u001b[1m113583/113583\u001b[0m \u001b[32m━━━━━━━━━━━━━━━━━━━━\u001b[0m\u001b[37m\u001b[0m \u001b[1m108s\u001b[0m 949us/step - accuracy: 0.9948 - loss: 0.0121 - val_accuracy: 0.9948 - val_loss: 0.0121\n",
      "Epoch 17/100\n",
      "\u001b[1m113583/113583\u001b[0m \u001b[32m━━━━━━━━━━━━━━━━━━━━\u001b[0m\u001b[37m\u001b[0m \u001b[1m86s\u001b[0m 752us/step - accuracy: 0.9948 - loss: 0.0121 - val_accuracy: 0.9948 - val_loss: 0.0119\n",
      "Epoch 18/100\n",
      "\u001b[1m113583/113583\u001b[0m \u001b[32m━━━━━━━━━━━━━━━━━━━━\u001b[0m\u001b[37m\u001b[0m \u001b[1m80s\u001b[0m 698us/step - accuracy: 0.9948 - loss: 0.0121 - val_accuracy: 0.9945 - val_loss: 0.0128\n",
      "Epoch 19/100\n",
      "\u001b[1m113583/113583\u001b[0m \u001b[32m━━━━━━━━━━━━━━━━━━━━\u001b[0m\u001b[37m\u001b[0m \u001b[1m80s\u001b[0m 696us/step - accuracy: 0.9948 - loss: 0.0121 - val_accuracy: 0.9949 - val_loss: 0.0120\n",
      "Epoch 20/100\n",
      "\u001b[1m113583/113583\u001b[0m \u001b[32m━━━━━━━━━━━━━━━━━━━━\u001b[0m\u001b[37m\u001b[0m \u001b[1m80s\u001b[0m 696us/step - accuracy: 0.9948 - loss: 0.0120 - val_accuracy: 0.9948 - val_loss: 0.0125\n",
      "Epoch 21/100\n",
      "\u001b[1m113583/113583\u001b[0m \u001b[32m━━━━━━━━━━━━━━━━━━━━\u001b[0m\u001b[37m\u001b[0m \u001b[1m81s\u001b[0m 712us/step - accuracy: 0.9948 - loss: 0.0120 - val_accuracy: 0.9949 - val_loss: 0.0119\n",
      "Epoch 22/100\n",
      "\u001b[1m113583/113583\u001b[0m \u001b[32m━━━━━━━━━━━━━━━━━━━━\u001b[0m\u001b[37m\u001b[0m \u001b[1m81s\u001b[0m 705us/step - accuracy: 0.9948 - loss: 0.0121 - val_accuracy: 0.9948 - val_loss: 0.0120\n",
      "Epoch 23/100\n",
      "\u001b[1m113583/113583\u001b[0m \u001b[32m━━━━━━━━━━━━━━━━━━━━\u001b[0m\u001b[37m\u001b[0m \u001b[1m80s\u001b[0m 699us/step - accuracy: 0.9949 - loss: 0.0120 - val_accuracy: 0.9948 - val_loss: 0.0119\n",
      "Epoch 24/100\n",
      "\u001b[1m113583/113583\u001b[0m \u001b[32m━━━━━━━━━━━━━━━━━━━━\u001b[0m\u001b[37m\u001b[0m \u001b[1m80s\u001b[0m 704us/step - accuracy: 0.9948 - loss: 0.0120 - val_accuracy: 0.9948 - val_loss: 0.0120\n",
      "Epoch 25/100\n",
      "\u001b[1m113583/113583\u001b[0m \u001b[32m━━━━━━━━━━━━━━━━━━━━\u001b[0m\u001b[37m\u001b[0m \u001b[1m81s\u001b[0m 708us/step - accuracy: 0.9949 - loss: 0.0120 - val_accuracy: 0.9949 - val_loss: 0.0119\n",
      "Epoch 26/100\n",
      "\u001b[1m113583/113583\u001b[0m \u001b[32m━━━━━━━━━━━━━━━━━━━━\u001b[0m\u001b[37m\u001b[0m \u001b[1m81s\u001b[0m 708us/step - accuracy: 0.9949 - loss: 0.0119 - val_accuracy: 0.9949 - val_loss: 0.0117\n",
      "Epoch 27/100\n",
      "\u001b[1m113583/113583\u001b[0m \u001b[32m━━━━━━━━━━━━━━━━━━━━\u001b[0m\u001b[37m\u001b[0m \u001b[1m80s\u001b[0m 703us/step - accuracy: 0.9949 - loss: 0.0119 - val_accuracy: 0.9948 - val_loss: 0.0119\n",
      "Epoch 28/100\n",
      "\u001b[1m113583/113583\u001b[0m \u001b[32m━━━━━━━━━━━━━━━━━━━━\u001b[0m\u001b[37m\u001b[0m \u001b[1m81s\u001b[0m 706us/step - accuracy: 0.9949 - loss: 0.0119 - val_accuracy: 0.9948 - val_loss: 0.0122\n",
      "Epoch 29/100\n",
      "\u001b[1m113583/113583\u001b[0m \u001b[32m━━━━━━━━━━━━━━━━━━━━\u001b[0m\u001b[37m\u001b[0m \u001b[1m460s\u001b[0m 4ms/step - accuracy: 0.9949 - loss: 0.0119 - val_accuracy: 0.9949 - val_loss: 0.0117\n",
      "Epoch 30/100\n",
      "\u001b[1m113583/113583\u001b[0m \u001b[32m━━━━━━━━━━━━━━━━━━━━\u001b[0m\u001b[37m\u001b[0m \u001b[1m769s\u001b[0m 7ms/step - accuracy: 0.9949 - loss: 0.0118 - val_accuracy: 0.9949 - val_loss: 0.0118\n",
      "Epoch 31/100\n",
      "\u001b[1m113583/113583\u001b[0m \u001b[32m━━━━━━━━━━━━━━━━━━━━\u001b[0m\u001b[37m\u001b[0m \u001b[1m1035s\u001b[0m 9ms/step - accuracy: 0.9949 - loss: 0.0119 - val_accuracy: 0.9949 - val_loss: 0.0117\n",
      "Epoch 32/100\n",
      "\u001b[1m113583/113583\u001b[0m \u001b[32m━━━━━━━━━━━━━━━━━━━━\u001b[0m\u001b[37m\u001b[0m \u001b[1m76s\u001b[0m 664us/step - accuracy: 0.9949 - loss: 0.0118 - val_accuracy: 0.9947 - val_loss: 0.0120\n",
      "Epoch 33/100\n",
      "\u001b[1m113583/113583\u001b[0m \u001b[32m━━━━━━━━━━━━━━━━━━━━\u001b[0m\u001b[37m\u001b[0m \u001b[1m1004s\u001b[0m 9ms/step - accuracy: 0.9949 - loss: 0.0118 - val_accuracy: 0.9948 - val_loss: 0.0119\n",
      "Epoch 34/100\n",
      "\u001b[1m113583/113583\u001b[0m \u001b[32m━━━━━━━━━━━━━━━━━━━━\u001b[0m\u001b[37m\u001b[0m \u001b[1m76s\u001b[0m 665us/step - accuracy: 0.9949 - loss: 0.0119 - val_accuracy: 0.9949 - val_loss: 0.0117\n",
      "Epoch 35/100\n",
      "\u001b[1m113583/113583\u001b[0m \u001b[32m━━━━━━━━━━━━━━━━━━━━\u001b[0m\u001b[37m\u001b[0m \u001b[1m580s\u001b[0m 5ms/step - accuracy: 0.9950 - loss: 0.0118 - val_accuracy: 0.9950 - val_loss: 0.0119\n",
      "Epoch 36/100\n",
      "\u001b[1m113583/113583\u001b[0m \u001b[32m━━━━━━━━━━━━━━━━━━━━\u001b[0m\u001b[37m\u001b[0m \u001b[1m81s\u001b[0m 712us/step - accuracy: 0.9949 - loss: 0.0118 - val_accuracy: 0.9949 - val_loss: 0.0117\n",
      "Epoch 37/100\n",
      "\u001b[1m113583/113583\u001b[0m \u001b[32m━━━━━━━━━━━━━━━━━━━━\u001b[0m\u001b[37m\u001b[0m \u001b[1m82s\u001b[0m 722us/step - accuracy: 0.9950 - loss: 0.0118 - val_accuracy: 0.9950 - val_loss: 0.0118\n",
      "Epoch 38/100\n",
      "\u001b[1m113583/113583\u001b[0m \u001b[32m━━━━━━━━━━━━━━━━━━━━\u001b[0m\u001b[37m\u001b[0m \u001b[1m103s\u001b[0m 900us/step - accuracy: 0.9950 - loss: 0.0118 - val_accuracy: 0.9950 - val_loss: 0.0116\n",
      "Epoch 39/100\n",
      "\u001b[1m113583/113583\u001b[0m \u001b[32m━━━━━━━━━━━━━━━━━━━━\u001b[0m\u001b[37m\u001b[0m \u001b[1m108s\u001b[0m 944us/step - accuracy: 0.9950 - loss: 0.0117 - val_accuracy: 0.9951 - val_loss: 0.0117\n",
      "Epoch 40/100\n",
      "\u001b[1m113583/113583\u001b[0m \u001b[32m━━━━━━━━━━━━━━━━━━━━\u001b[0m\u001b[37m\u001b[0m \u001b[1m104s\u001b[0m 912us/step - accuracy: 0.9950 - loss: 0.0117 - val_accuracy: 0.9950 - val_loss: 0.0117\n",
      "Epoch 41/100\n",
      "\u001b[1m113583/113583\u001b[0m \u001b[32m━━━━━━━━━━━━━━━━━━━━\u001b[0m\u001b[37m\u001b[0m \u001b[1m104s\u001b[0m 912us/step - accuracy: 0.9950 - loss: 0.0118 - val_accuracy: 0.9949 - val_loss: 0.0118\n",
      "Epoch 42/100\n",
      "\u001b[1m113583/113583\u001b[0m \u001b[32m━━━━━━━━━━━━━━━━━━━━\u001b[0m\u001b[37m\u001b[0m \u001b[1m102s\u001b[0m 895us/step - accuracy: 0.9950 - loss: 0.0118 - val_accuracy: 0.9950 - val_loss: 0.0118\n",
      "Epoch 43/100\n",
      "\u001b[1m113583/113583\u001b[0m \u001b[32m━━━━━━━━━━━━━━━━━━━━\u001b[0m\u001b[37m\u001b[0m \u001b[1m110s\u001b[0m 965us/step - accuracy: 0.9950 - loss: 0.0117 - val_accuracy: 0.9950 - val_loss: 0.0117\n",
      "Epoch 44/100\n",
      "\u001b[1m113583/113583\u001b[0m \u001b[32m━━━━━━━━━━━━━━━━━━━━\u001b[0m\u001b[37m\u001b[0m \u001b[1m1045s\u001b[0m 9ms/step - accuracy: 0.9950 - loss: 0.0118 - val_accuracy: 0.9950 - val_loss: 0.0115\n",
      "Epoch 45/100\n",
      "\u001b[1m113583/113583\u001b[0m \u001b[32m━━━━━━━━━━━━━━━━━━━━\u001b[0m\u001b[37m\u001b[0m \u001b[1m111s\u001b[0m 969us/step - accuracy: 0.9950 - loss: 0.0117 - val_accuracy: 0.9950 - val_loss: 0.0118\n",
      "Epoch 46/100\n",
      "\u001b[1m113583/113583\u001b[0m \u001b[32m━━━━━━━━━━━━━━━━━━━━\u001b[0m\u001b[37m\u001b[0m \u001b[1m105s\u001b[0m 917us/step - accuracy: 0.9950 - loss: 0.0117 - val_accuracy: 0.9948 - val_loss: 0.0118\n",
      "Epoch 47/100\n",
      "\u001b[1m113583/113583\u001b[0m \u001b[32m━━━━━━━━━━━━━━━━━━━━\u001b[0m\u001b[37m\u001b[0m \u001b[1m113s\u001b[0m 986us/step - accuracy: 0.9950 - loss: 0.0117 - val_accuracy: 0.9949 - val_loss: 0.0118\n",
      "Epoch 48/100\n",
      "\u001b[1m113583/113583\u001b[0m \u001b[32m━━━━━━━━━━━━━━━━━━━━\u001b[0m\u001b[37m\u001b[0m \u001b[1m108s\u001b[0m 948us/step - accuracy: 0.9950 - loss: 0.0116 - val_accuracy: 0.9949 - val_loss: 0.0121\n",
      "Epoch 49/100\n",
      "\u001b[1m113583/113583\u001b[0m \u001b[32m━━━━━━━━━━━━━━━━━━━━\u001b[0m\u001b[37m\u001b[0m \u001b[1m107s\u001b[0m 935us/step - accuracy: 0.9950 - loss: 0.0118 - val_accuracy: 0.9949 - val_loss: 0.0118\n",
      "Epoch 50/100\n",
      "\u001b[1m113583/113583\u001b[0m \u001b[32m━━━━━━━━━━━━━━━━━━━━\u001b[0m\u001b[37m\u001b[0m \u001b[1m105s\u001b[0m 922us/step - accuracy: 0.9950 - loss: 0.0117 - val_accuracy: 0.9950 - val_loss: 0.0116\n",
      "Epoch 51/100\n",
      "\u001b[1m113583/113583\u001b[0m \u001b[32m━━━━━━━━━━━━━━━━━━━━\u001b[0m\u001b[37m\u001b[0m \u001b[1m115s\u001b[0m 1ms/step - accuracy: 0.9951 - loss: 0.0117 - val_accuracy: 0.9950 - val_loss: 0.0118\n",
      "Epoch 52/100\n",
      "\u001b[1m113583/113583\u001b[0m \u001b[32m━━━━━━━━━━━━━━━━━━━━\u001b[0m\u001b[37m\u001b[0m \u001b[1m107s\u001b[0m 937us/step - accuracy: 0.9950 - loss: 0.0116 - val_accuracy: 0.9950 - val_loss: 0.0117\n",
      "Epoch 53/100\n",
      "\u001b[1m113583/113583\u001b[0m \u001b[32m━━━━━━━━━━━━━━━━━━━━\u001b[0m\u001b[37m\u001b[0m \u001b[1m111s\u001b[0m 972us/step - accuracy: 0.9950 - loss: 0.0118 - val_accuracy: 0.9949 - val_loss: 0.0119\n",
      "Epoch 54/100\n",
      "\u001b[1m113583/113583\u001b[0m \u001b[32m━━━━━━━━━━━━━━━━━━━━\u001b[0m\u001b[37m\u001b[0m \u001b[1m108s\u001b[0m 943us/step - accuracy: 0.9950 - loss: 0.0117 - val_accuracy: 0.9950 - val_loss: 0.0119\n",
      "323131/323131 - 72s - 224us/step - accuracy: 0.9950 - loss: 0.0115\n",
      "Test accuracy: 0.995025634765625, Test loss: 0.011546277441084385\n"
     ]
    },
    {
     "ename": "NameError",
     "evalue": "name 'y_train' is not defined",
     "output_type": "error",
     "traceback": [
      "\u001b[0;31m---------------------------------------------------------------------------\u001b[0m",
      "\u001b[0;31mNameError\u001b[0m                                 Traceback (most recent call last)",
      "Cell \u001b[0;32mIn[2], line 54\u001b[0m\n\u001b[1;32m     52\u001b[0m test_loss, test_acc \u001b[38;5;241m=\u001b[39m model\u001b[38;5;241m.\u001b[39mevaluate(X_test, y_test_encoded, verbose\u001b[38;5;241m=\u001b[39m\u001b[38;5;241m2\u001b[39m)\n\u001b[1;32m     53\u001b[0m \u001b[38;5;28mprint\u001b[39m(\u001b[38;5;124mf\u001b[39m\u001b[38;5;124m'\u001b[39m\u001b[38;5;124mTest accuracy: \u001b[39m\u001b[38;5;132;01m{\u001b[39;00mtest_acc\u001b[38;5;132;01m}\u001b[39;00m\u001b[38;5;124m, Test loss: \u001b[39m\u001b[38;5;132;01m{\u001b[39;00mtest_loss\u001b[38;5;132;01m}\u001b[39;00m\u001b[38;5;124m'\u001b[39m)\n\u001b[0;32m---> 54\u001b[0m \u001b[38;5;28;01mdel\u001b[39;00m X_train,X_test,\u001b[43my_train\u001b[49m,y_test\n",
      "\u001b[0;31mNameError\u001b[0m: name 'y_train' is not defined"
     ]
    }
   ],
   "source": [
    "\n",
    "##simplifying this \n",
    "# def create_binary_classification_model(input_shape):\n",
    "#     inputs = Input(shape=(input_shape,))\n",
    "#     x = Dense(128, activation='relu')(inputs)\n",
    "#     x = BatchNormalization()(x)\n",
    "#     x = Dropout(0.5)(x)\n",
    "#     x = Dense(64, activation='relu')(x)\n",
    "#     x = BatchNormalization()(x)\n",
    "#     x = Dropout(0.5)(x)\n",
    "#     outputs = Dense(1, activation='sigmoid')(x)\n",
    "#     model = Model(inputs=inputs, outputs=outputs)\n",
    "#     model.compile(optimizer=Adam(learning_rate=0.001),\n",
    "#                   loss='binary_crossentropy',\n",
    "#                   metrics=['accuracy'])\n",
    "#     return model\n",
    "\n",
    "def create_binary_classification_model(input_shape):\n",
    "    inputs = Input(shape=(input_shape,))\n",
    "    x = Dense(128, activation='relu')(inputs)\n",
    "    outputs = Dense(1, activation='sigmoid')(x)\n",
    "    model = Model(inputs=inputs, outputs=outputs)\n",
    "    model.compile(optimizer=Adam(learning_rate=0.001),\n",
    "                  loss='binary_crossentropy',\n",
    "                  metrics=['accuracy'])\n",
    "    return model\n",
    "\n",
    "train, test = util.import_dataset(2,\"dnn\")\n",
    "\n",
    "\n",
    "\n",
    "y_train = train[util.y_column]\n",
    "y_test = test[util.y_column]\n",
    "\n",
    "X_train = train.drop(util.y_column, axis=1)\n",
    "X_test = test.drop(util.y_column, axis=1)\n",
    "\n",
    "label_encoder = LabelEncoder()\n",
    "y_train_encoded = label_encoder.fit_transform(y_train)\n",
    "y_test_encoded = label_encoder.transform(y_test)\n",
    "\n",
    "del train,test,y_train,y_test\n",
    "\n",
    "\n",
    "model = create_binary_classification_model(len(util.X_columns))\n",
    "early_stopping = EarlyStopping(monitor='val_loss', patience=10, restore_best_weights=True)\n",
    "#https://keras.io/api/models/model_training_apis/\n",
    "history = model.fit(x=X_train, y=y_train_encoded,\n",
    "                    validation_split=0.2, epochs=100, \n",
    "                    batch_size=256, callbacks=[early_stopping])\n",
    "\n",
    "\n",
    "test_loss, test_acc = model.evaluate(X_test, y_test_encoded, verbose=2)\n",
    "print(f'Test accuracy: {test_acc}, Test loss: {test_loss}')\n",
    "del X_train,X_test,y_train,y_test"
   ]
  },
  {
   "cell_type": "code",
   "execution_count": 3,
   "metadata": {},
   "outputs": [
    {
     "name": "stdout",
     "output_type": "stream",
     "text": [
      "Test accuracy: 0.995025634765625, Test loss: 0.011546277441084385\n"
     ]
    },
    {
     "data": {
      "image/png": "[encoded data removed]",
      "text/plain": [
       "<Figure size 640x480 with 1 Axes>"
      ]
     },
     "metadata": {},
     "output_type": "display_data"
    }
   ],
   "source": [
    "import matplotlib.pyplot as plt\n",
    "print(f'Test accuracy: {test_acc}, Test loss: {test_loss}')\n",
    "# Plot accuracy\n",
    "plt.plot(history.history['accuracy'], label='Training Accuracy')\n",
    "plt.plot(history.history['val_accuracy'], label='Validation Accuracy')\n",
    "plt.title('Model Accuracy')\n",
    "plt.ylabel('Accuracy')\n",
    "plt.xlabel('Epoch')\n",
    "plt.legend(loc='upper left')\n",
    "plt.show()"
   ]
  },
  {
   "cell_type": "markdown",
   "metadata": {},
   "source": [
    "# 7 Class classifier DNN"
   ]
  },
  {
   "cell_type": "code",
   "execution_count": 7,
   "metadata": {},
   "outputs": [],
   "source": [
    "def create_multiclass_classification_model(input_shape, num_classes):\n",
    "    inputs = Input(shape=(input_shape,))\n",
    "    x = Dense(128, activation='relu')(inputs)\n",
    "    outputs = Dense(num_classes, activation='softmax')(x)\n",
    "    model = Model(inputs=inputs, outputs=outputs)\n",
    "    model.compile(optimizer=Adam(learning_rate=0.001),\n",
    "                  loss='sparse_categorical_crossentropy',\n",
    "                  metrics=['accuracy'])\n",
    "    return model"
   ]
  },
  {
   "cell_type": "code",
   "execution_count": 9,
   "metadata": {},
   "outputs": [
    {
     "name": "stdout",
     "output_type": "stream",
     "text": [
      "Importing datasets.....\n",
      "Processing training and test data....\n"
     ]
    },
    {
     "ename": "ParserError",
     "evalue": "Error tokenizing data. C error: Calling read(nbytes) on source failed. Try engine='python'.",
     "output_type": "error",
     "traceback": [
      "\u001b[0;31m---------------------------------------------------------------------------\u001b[0m",
      "\u001b[0;31mParserError\u001b[0m                               Traceback (most recent call last)",
      "Cell \u001b[0;32mIn[9], line 1\u001b[0m\n\u001b[0;32m----> 1\u001b[0m train, test \u001b[38;5;241m=\u001b[39m \u001b[43mutil\u001b[49m\u001b[38;5;241;43m.\u001b[39;49m\u001b[43mimport_dataset\u001b[49m\u001b[43m(\u001b[49m\u001b[38;5;241;43m7\u001b[39;49m\u001b[43m,\u001b[49m\u001b[38;5;124;43m\"\u001b[39;49m\u001b[38;5;124;43mdnn\u001b[39;49m\u001b[38;5;124;43m\"\u001b[39;49m\u001b[43m)\u001b[49m\n\u001b[1;32m      2\u001b[0m y_train \u001b[38;5;241m=\u001b[39m train[util\u001b[38;5;241m.\u001b[39my_column]\n\u001b[1;32m      3\u001b[0m y_test \u001b[38;5;241m=\u001b[39m test[util\u001b[38;5;241m.\u001b[39my_column]\n",
      "File \u001b[0;32m~/Downloads/CICIoT2023/neuralnetwork/../util/util.py:127\u001b[0m, in \u001b[0;36mimport_dataset\u001b[0;34m(numclasses, modeltype)\u001b[0m\n\u001b[1;32m    125\u001b[0m test_sets \u001b[38;5;241m=\u001b[39m df_sets[\u001b[38;5;28mint\u001b[39m(\u001b[38;5;28mlen\u001b[39m(df_sets)\u001b[38;5;241m*\u001b[39m\u001b[38;5;241m.8\u001b[39m):]\n\u001b[1;32m    126\u001b[0m \u001b[38;5;28mprint\u001b[39m(\u001b[38;5;124m\"\u001b[39m\u001b[38;5;124mProcessing training and test data....\u001b[39m\u001b[38;5;124m\"\u001b[39m)\n\u001b[0;32m--> 127\u001b[0m train \u001b[38;5;241m=\u001b[39m \u001b[43mread_dataset\u001b[49m\u001b[43m(\u001b[49m\u001b[43mtraining_sets\u001b[49m\u001b[43m,\u001b[49m\u001b[43mmodeltype\u001b[49m\u001b[43m)\u001b[49m\n\u001b[1;32m    128\u001b[0m test \u001b[38;5;241m=\u001b[39m read_dataset(test_sets,modeltype)\n\u001b[1;32m    129\u001b[0m \u001b[38;5;66;03m# print(train.dtypes)\u001b[39;00m\n",
      "File \u001b[0;32m~/Downloads/CICIoT2023/neuralnetwork/../util/util.py:156\u001b[0m, in \u001b[0;36mread_dataset\u001b[0;34m(dataset, modeltype)\u001b[0m\n\u001b[1;32m    154\u001b[0m dataframes \u001b[38;5;241m=\u001b[39m []\n\u001b[1;32m    155\u001b[0m \u001b[38;5;28;01mfor\u001b[39;00m file \u001b[38;5;129;01min\u001b[39;00m dataset:\n\u001b[0;32m--> 156\u001b[0m     df \u001b[38;5;241m=\u001b[39m \u001b[43mpd\u001b[49m\u001b[38;5;241;43m.\u001b[39;49m\u001b[43mread_csv\u001b[49m\u001b[43m(\u001b[49m\u001b[43mDATASET_DIRECTORY\u001b[49m\u001b[43m \u001b[49m\u001b[38;5;241;43m+\u001b[39;49m\u001b[43m \u001b[49m\u001b[43mfile\u001b[49m\u001b[43m)\u001b[49m\n\u001b[1;32m    157\u001b[0m     \u001b[38;5;66;03m#if it's a regression, i'd like to keep these as boolean. DNN's don't take bool so left it as float\u001b[39;00m\n\u001b[1;32m    158\u001b[0m     \u001b[38;5;66;03m# if(modeltype==\"regression\"):\u001b[39;00m\n\u001b[1;32m    159\u001b[0m     \u001b[38;5;66;03m#     df[protocol_cols] = df[protocol_cols].astype(bool)\u001b[39;00m\n\u001b[1;32m    160\u001b[0m     float_cols \u001b[38;5;241m=\u001b[39m df\u001b[38;5;241m.\u001b[39mselect_dtypes(include\u001b[38;5;241m=\u001b[39m[\u001b[38;5;124m'\u001b[39m\u001b[38;5;124mfloat64\u001b[39m\u001b[38;5;124m'\u001b[39m])\u001b[38;5;241m.\u001b[39mcolumns\u001b[38;5;241m.\u001b[39mdifference(protocol_cols)\n",
      "File \u001b[0;32m/opt/homebrew/lib/python3.11/site-packages/pandas/io/parsers/readers.py:1024\u001b[0m, in \u001b[0;36mread_csv\u001b[0;34m(filepath_or_buffer, sep, delimiter, header, names, index_col, usecols, dtype, engine, converters, true_values, false_values, skipinitialspace, skiprows, skipfooter, nrows, na_values, keep_default_na, na_filter, verbose, skip_blank_lines, parse_dates, infer_datetime_format, keep_date_col, date_parser, date_format, dayfirst, cache_dates, iterator, chunksize, compression, thousands, decimal, lineterminator, quotechar, quoting, doublequote, escapechar, comment, encoding, encoding_errors, dialect, on_bad_lines, delim_whitespace, low_memory, memory_map, float_precision, storage_options, dtype_backend)\u001b[0m\n\u001b[1;32m   1011\u001b[0m kwds_defaults \u001b[38;5;241m=\u001b[39m _refine_defaults_read(\n\u001b[1;32m   1012\u001b[0m     dialect,\n\u001b[1;32m   1013\u001b[0m     delimiter,\n\u001b[0;32m   (...)\u001b[0m\n\u001b[1;32m   1020\u001b[0m     dtype_backend\u001b[38;5;241m=\u001b[39mdtype_backend,\n\u001b[1;32m   1021\u001b[0m )\n\u001b[1;32m   1022\u001b[0m kwds\u001b[38;5;241m.\u001b[39mupdate(kwds_defaults)\n\u001b[0;32m-> 1024\u001b[0m \u001b[38;5;28;01mreturn\u001b[39;00m \u001b[43m_read\u001b[49m\u001b[43m(\u001b[49m\u001b[43mfilepath_or_buffer\u001b[49m\u001b[43m,\u001b[49m\u001b[43m \u001b[49m\u001b[43mkwds\u001b[49m\u001b[43m)\u001b[49m\n",
      "File \u001b[0;32m/opt/homebrew/lib/python3.11/site-packages/pandas/io/parsers/readers.py:624\u001b[0m, in \u001b[0;36m_read\u001b[0;34m(filepath_or_buffer, kwds)\u001b[0m\n\u001b[1;32m    621\u001b[0m     \u001b[38;5;28;01mreturn\u001b[39;00m parser\n\u001b[1;32m    623\u001b[0m \u001b[38;5;28;01mwith\u001b[39;00m parser:\n\u001b[0;32m--> 624\u001b[0m     \u001b[38;5;28;01mreturn\u001b[39;00m \u001b[43mparser\u001b[49m\u001b[38;5;241;43m.\u001b[39;49m\u001b[43mread\u001b[49m\u001b[43m(\u001b[49m\u001b[43mnrows\u001b[49m\u001b[43m)\u001b[49m\n",
      "File \u001b[0;32m/opt/homebrew/lib/python3.11/site-packages/pandas/io/parsers/readers.py:1921\u001b[0m, in \u001b[0;36mTextFileReader.read\u001b[0;34m(self, nrows)\u001b[0m\n\u001b[1;32m   1914\u001b[0m nrows \u001b[38;5;241m=\u001b[39m validate_integer(\u001b[38;5;124m\"\u001b[39m\u001b[38;5;124mnrows\u001b[39m\u001b[38;5;124m\"\u001b[39m, nrows)\n\u001b[1;32m   1915\u001b[0m \u001b[38;5;28;01mtry\u001b[39;00m:\n\u001b[1;32m   1916\u001b[0m     \u001b[38;5;66;03m# error: \"ParserBase\" has no attribute \"read\"\u001b[39;00m\n\u001b[1;32m   1917\u001b[0m     (\n\u001b[1;32m   1918\u001b[0m         index,\n\u001b[1;32m   1919\u001b[0m         columns,\n\u001b[1;32m   1920\u001b[0m         col_dict,\n\u001b[0;32m-> 1921\u001b[0m     ) \u001b[38;5;241m=\u001b[39m \u001b[38;5;28;43mself\u001b[39;49m\u001b[38;5;241;43m.\u001b[39;49m\u001b[43m_engine\u001b[49m\u001b[38;5;241;43m.\u001b[39;49m\u001b[43mread\u001b[49m\u001b[43m(\u001b[49m\u001b[43m  \u001b[49m\u001b[38;5;66;43;03m# type: ignore[attr-defined]\u001b[39;49;00m\n\u001b[1;32m   1922\u001b[0m \u001b[43m        \u001b[49m\u001b[43mnrows\u001b[49m\n\u001b[1;32m   1923\u001b[0m \u001b[43m    \u001b[49m\u001b[43m)\u001b[49m\n\u001b[1;32m   1924\u001b[0m \u001b[38;5;28;01mexcept\u001b[39;00m \u001b[38;5;167;01mException\u001b[39;00m:\n\u001b[1;32m   1925\u001b[0m     \u001b[38;5;28mself\u001b[39m\u001b[38;5;241m.\u001b[39mclose()\n",
      "File \u001b[0;32m/opt/homebrew/lib/python3.11/site-packages/pandas/io/parsers/c_parser_wrapper.py:234\u001b[0m, in \u001b[0;36mCParserWrapper.read\u001b[0;34m(self, nrows)\u001b[0m\n\u001b[1;32m    232\u001b[0m \u001b[38;5;28;01mtry\u001b[39;00m:\n\u001b[1;32m    233\u001b[0m     \u001b[38;5;28;01mif\u001b[39;00m \u001b[38;5;28mself\u001b[39m\u001b[38;5;241m.\u001b[39mlow_memory:\n\u001b[0;32m--> 234\u001b[0m         chunks \u001b[38;5;241m=\u001b[39m \u001b[38;5;28;43mself\u001b[39;49m\u001b[38;5;241;43m.\u001b[39;49m\u001b[43m_reader\u001b[49m\u001b[38;5;241;43m.\u001b[39;49m\u001b[43mread_low_memory\u001b[49m\u001b[43m(\u001b[49m\u001b[43mnrows\u001b[49m\u001b[43m)\u001b[49m\n\u001b[1;32m    235\u001b[0m         \u001b[38;5;66;03m# destructive to chunks\u001b[39;00m\n\u001b[1;32m    236\u001b[0m         data \u001b[38;5;241m=\u001b[39m _concatenate_chunks(chunks)\n",
      "File \u001b[0;32mparsers.pyx:838\u001b[0m, in \u001b[0;36mpandas._libs.parsers.TextReader.read_low_memory\u001b[0;34m()\u001b[0m\n",
      "File \u001b[0;32mparsers.pyx:905\u001b[0m, in \u001b[0;36mpandas._libs.parsers.TextReader._read_rows\u001b[0;34m()\u001b[0m\n",
      "File \u001b[0;32mparsers.pyx:874\u001b[0m, in \u001b[0;36mpandas._libs.parsers.TextReader._tokenize_rows\u001b[0;34m()\u001b[0m\n",
      "File \u001b[0;32mparsers.pyx:891\u001b[0m, in \u001b[0;36mpandas._libs.parsers.TextReader._check_tokenize_status\u001b[0;34m()\u001b[0m\n",
      "File \u001b[0;32mparsers.pyx:2061\u001b[0m, in \u001b[0;36mpandas._libs.parsers.raise_parser_error\u001b[0;34m()\u001b[0m\n",
      "\u001b[0;31mParserError\u001b[0m: Error tokenizing data. C error: Calling read(nbytes) on source failed. Try engine='python'."
     ]
    }
   ],
   "source": [
    "train, test = util.import_dataset(7,\"dnn\")\n",
    "y_train = train[util.y_column]\n",
    "y_test = test[util.y_column]\n",
    "\n",
    "X_train = train.drop(util.y_column, axis=1)\n",
    "X_test = test.drop(util.y_column, axis=1)\n",
    "\n",
    "label_encoder = LabelEncoder()\n",
    "y_train_encoded = label_encoder.fit_transform(y_train)\n",
    "y_test_encoded = label_encoder.transform(y_test)\n",
    "\n",
    "del train,test,y_train,y_test\n",
    "num_classes = len(label_encoder.classes_)\n",
    "print(\" Number of classes is:\" )\n",
    "print(num_classes)\n",
    "print(\"\")\n",
    "model = create_multiclass_classification_model(len(util.X_columns),num_classes)\n",
    "early_stopping = EarlyStopping(monitor='val_loss', patience=10, restore_best_weights=True)\n",
    "#https://keras.io/api/models/model_training_apis/\n",
    "history = model.fit(x=X_train, y=y_train_encoded,\n",
    "                    validation_split=0.2, epochs=100, \n",
    "                    batch_size=256, callbacks=[early_stopping])\n",
    "\n",
    "\n",
    "test_loss, test_acc = model.evaluate(X_test, y_test_encoded, verbose=2)\n",
    "print(f'Test accuracy: {test_acc}, Test loss: {test_loss}')\n",
    "del X_train,X_test,y_train_encoded,y_test_encoded"
   ]
  },
  {
   "cell_type": "code",
   "execution_count": null,
   "metadata": {},
   "outputs": [],
   "source": [
    "import matplotlib.pyplot as plt\n",
    "print(f'Test accuracy: {test_acc}, Test loss: {test_loss}')\n",
    "# Plot accuracy\n",
    "plt.plot(history.history['accuracy'], label='Training Accuracy')\n",
    "plt.plot(history.history['val_accuracy'], label='Validation Accuracy')\n",
    "plt.title('Model Accuracy for 7 classes')\n",
    "plt.ylabel('Accuracy')\n",
    "plt.xlabel('Epoch')\n",
    "plt.legend(loc='upper left')\n",
    "plt.show()"
   ]
  },
  {
   "cell_type": "markdown",
   "metadata": {},
   "source": [
    "# 34 classes"
   ]
  },
  {
   "cell_type": "code",
   "execution_count": null,
   "metadata": {},
   "outputs": [],
   "source": [
    "train, test = util.import_dataset(34,\"dnn\")\n",
    "y_train = train[util.y_column]\n",
    "y_test = test[util.y_column]\n",
    "\n",
    "X_train = train.drop(util.y_column, axis=1)\n",
    "X_test = test.drop(util.y_column, axis=1)\n",
    "\n",
    "label_encoder = LabelEncoder()\n",
    "y_train_encoded = label_encoder.fit_transform(y_train)\n",
    "y_test_encoded = label_encoder.transform(y_test)\n",
    "\n",
    "del train,test,y_train,y_test\n",
    "num_classes = len(label_encoder.classes_)\n",
    "print(\" Number of classes is:\" )\n",
    "print(num_classes)\n",
    "print(\"\")\n",
    "model = create_multiclass_classification_model(len(util.X_columns),num_classes)\n",
    "early_stopping = EarlyStopping(monitor='val_loss', patience=10, restore_best_weights=True)\n",
    "#https://keras.io/api/models/model_training_apis/\n",
    "history = model.fit(x=X_train, y=y_train_encoded,\n",
    "                    validation_split=0.2, epochs=100, \n",
    "                    batch_size=256, callbacks=[early_stopping])\n",
    "\n",
    "\n",
    "test_loss, test_acc = model.evaluate(X_test, y_test_encoded, verbose=2)\n",
    "print(f'Test accuracy: {test_acc}, Test loss: {test_loss}')\n",
    "del X_train,X_test"
   ]
  },
  {
   "cell_type": "code",
   "execution_count": null,
   "metadata": {},
   "outputs": [],
   "source": [
    "import matplotlib.pyplot as plt\n",
    "print(f'Test accuracy: {test_acc}, Test loss: {test_loss}')\n",
    "# Plot accuracy\n",
    "plt.plot(history.history['accuracy'], label='Training Accuracy')\n",
    "plt.plot(history.history['val_accuracy'], label='Validation Accuracy')\n",
    "plt.title('Model Accuracy for 34 classes')\n",
    "plt.ylabel('Accuracy')\n",
    "plt.xlabel('Epoch')\n",
    "plt.legend(loc='upper left')\n",
    "plt.show()"
   ]
  }
 ],
 "metadata": {
  "kernelspec": {
   "display_name": "Python 3",
   "language": "python",
   "name": "python3"
  },
  "language_info": {
   "codemirror_mode": {
    "name": "ipython",
    "version": 3
   },
   "file_extension": ".py",
   "mimetype": "text/x-python",
   "name": "python",
   "nbconvert_exporter": "python",
   "pygments_lexer": "ipython3",
   "version": "3.11.6"
  }
 },
 "nbformat": 4,
 "nbformat_minor": 2
}
